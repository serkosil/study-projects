{
 "cells": [
  {
   "cell_type": "markdown",
   "id": "386f2ae7",
   "metadata": {
    "deletable": false,
    "editable": false,
    "id": "386f2ae7"
   },
   "source": [
    "# Исследование надёжности заёмщиков"
   ]
  },
  {
   "cell_type": "markdown",
   "id": "ffe86f65",
   "metadata": {
    "deletable": false,
    "editable": false,
    "id": "ffe86f65"
   },
   "source": [
    "Во второй части проекта вы выполните шаги 3 и 4. Чтобы вам не пришлось писать код заново для шагов 1 и 2, мы добавили авторские решения в ячейки с кодом."
   ]
  },
  {
   "cell_type": "markdown",
   "id": "6b65c77c",
   "metadata": {},
   "source": [
    "## Описание проекта\n",
    "Заказчик — кредитный отдел банка. Нужно разобраться, влияет ли семейное положение и количество детей клиента на факт погашения кредита в срок. Входные данные от банка — статистика о платёжеспособности клиентов.<br>\n",
    "Результаты исследования будут учтены при построении модели кредитного скоринга — специальной системы, которая оценивает способность потенциального заёмщика вернуть кредит банку.\n",
    "\n",
    "**Описание данных**\n",
    "- `children` — количество детей в семье\n",
    "- `days_employed` — общий трудовой стаж в днях\n",
    "- `dob_years` — возраст клиента в годах\n",
    "- `education` — уровень образования клиента\n",
    "- `education_id` — идентификатор уровня образования\n",
    "- `family_status` — семейное положение\n",
    "- `family_status_id` — идентификатор семейного положения\n",
    "- `gender` — пол клиента\n",
    "- `income_type` — тип занятости\n",
    "- `debt` — имел ли задолженность по возврату кредитов\n",
    "- `total_income` — ежемесячный доход\n",
    "- `purpose` — цель получения кредита"
   ]
  },
  {
   "cell_type": "markdown",
   "id": "26613308",
   "metadata": {
    "deletable": false,
    "editable": false,
    "id": "26613308"
   },
   "source": [
    "## Откройте таблицу и изучите общую информацию о данных"
   ]
  },
  {
   "cell_type": "markdown",
   "id": "3c9f838e",
   "metadata": {
    "deletable": false,
    "editable": false,
    "id": "3c9f838e"
   },
   "source": [
    "**Задание 1. Импортируйте библиотеку pandas. Считайте данные из csv-файла в датафрейм и сохраните в переменную `data`. Путь к файлу:**\n",
    "\n",
    "`/datasets/data.csv`"
   ]
  },
  {
   "cell_type": "code",
   "execution_count": 1,
   "id": "77a68a90",
   "metadata": {
    "deletable": false,
    "id": "77a68a90"
   },
   "outputs": [],
   "source": [
    "import pandas as pd\n",
    "\n",
    "try:\n",
    "    data = pd.read_csv('/datasets/data.csv')\n",
    "except:\n",
    "    data = pd.read_csv('https://code.s3.yandex.net/datasets/data.csv')"
   ]
  },
  {
   "cell_type": "markdown",
   "id": "45365635",
   "metadata": {
    "deletable": false,
    "editable": false,
    "id": "45365635"
   },
   "source": [
    "**Задание 2. Выведите первые 20 строчек датафрейма `data` на экран.**"
   ]
  },
  {
   "cell_type": "code",
   "execution_count": 2,
   "id": "b0451a9a",
   "metadata": {
    "deletable": false,
    "id": "b0451a9a",
    "outputId": "1a8f3ef2-d323-4ec2-ddf7-89670b5944c4"
   },
   "outputs": [
    {
     "data": {
      "text/html": [
       "<div>\n",
       "<style scoped>\n",
       "    .dataframe tbody tr th:only-of-type {\n",
       "        vertical-align: middle;\n",
       "    }\n",
       "\n",
       "    .dataframe tbody tr th {\n",
       "        vertical-align: top;\n",
       "    }\n",
       "\n",
       "    .dataframe thead th {\n",
       "        text-align: right;\n",
       "    }\n",
       "</style>\n",
       "<table border=\"1\" class=\"dataframe\">\n",
       "  <thead>\n",
       "    <tr style=\"text-align: right;\">\n",
       "      <th></th>\n",
       "      <th>children</th>\n",
       "      <th>days_employed</th>\n",
       "      <th>dob_years</th>\n",
       "      <th>education</th>\n",
       "      <th>education_id</th>\n",
       "      <th>family_status</th>\n",
       "      <th>family_status_id</th>\n",
       "      <th>gender</th>\n",
       "      <th>income_type</th>\n",
       "      <th>debt</th>\n",
       "      <th>total_income</th>\n",
       "      <th>purpose</th>\n",
       "    </tr>\n",
       "  </thead>\n",
       "  <tbody>\n",
       "    <tr>\n",
       "      <th>0</th>\n",
       "      <td>1</td>\n",
       "      <td>-8437.673028</td>\n",
       "      <td>42</td>\n",
       "      <td>высшее</td>\n",
       "      <td>0</td>\n",
       "      <td>женат / замужем</td>\n",
       "      <td>0</td>\n",
       "      <td>F</td>\n",
       "      <td>сотрудник</td>\n",
       "      <td>0</td>\n",
       "      <td>253875.639453</td>\n",
       "      <td>покупка жилья</td>\n",
       "    </tr>\n",
       "    <tr>\n",
       "      <th>1</th>\n",
       "      <td>1</td>\n",
       "      <td>-4024.803754</td>\n",
       "      <td>36</td>\n",
       "      <td>среднее</td>\n",
       "      <td>1</td>\n",
       "      <td>женат / замужем</td>\n",
       "      <td>0</td>\n",
       "      <td>F</td>\n",
       "      <td>сотрудник</td>\n",
       "      <td>0</td>\n",
       "      <td>112080.014102</td>\n",
       "      <td>приобретение автомобиля</td>\n",
       "    </tr>\n",
       "    <tr>\n",
       "      <th>2</th>\n",
       "      <td>0</td>\n",
       "      <td>-5623.422610</td>\n",
       "      <td>33</td>\n",
       "      <td>Среднее</td>\n",
       "      <td>1</td>\n",
       "      <td>женат / замужем</td>\n",
       "      <td>0</td>\n",
       "      <td>M</td>\n",
       "      <td>сотрудник</td>\n",
       "      <td>0</td>\n",
       "      <td>145885.952297</td>\n",
       "      <td>покупка жилья</td>\n",
       "    </tr>\n",
       "    <tr>\n",
       "      <th>3</th>\n",
       "      <td>3</td>\n",
       "      <td>-4124.747207</td>\n",
       "      <td>32</td>\n",
       "      <td>среднее</td>\n",
       "      <td>1</td>\n",
       "      <td>женат / замужем</td>\n",
       "      <td>0</td>\n",
       "      <td>M</td>\n",
       "      <td>сотрудник</td>\n",
       "      <td>0</td>\n",
       "      <td>267628.550329</td>\n",
       "      <td>дополнительное образование</td>\n",
       "    </tr>\n",
       "    <tr>\n",
       "      <th>4</th>\n",
       "      <td>0</td>\n",
       "      <td>340266.072047</td>\n",
       "      <td>53</td>\n",
       "      <td>среднее</td>\n",
       "      <td>1</td>\n",
       "      <td>гражданский брак</td>\n",
       "      <td>1</td>\n",
       "      <td>F</td>\n",
       "      <td>пенсионер</td>\n",
       "      <td>0</td>\n",
       "      <td>158616.077870</td>\n",
       "      <td>сыграть свадьбу</td>\n",
       "    </tr>\n",
       "    <tr>\n",
       "      <th>5</th>\n",
       "      <td>0</td>\n",
       "      <td>-926.185831</td>\n",
       "      <td>27</td>\n",
       "      <td>высшее</td>\n",
       "      <td>0</td>\n",
       "      <td>гражданский брак</td>\n",
       "      <td>1</td>\n",
       "      <td>M</td>\n",
       "      <td>компаньон</td>\n",
       "      <td>0</td>\n",
       "      <td>255763.565419</td>\n",
       "      <td>покупка жилья</td>\n",
       "    </tr>\n",
       "    <tr>\n",
       "      <th>6</th>\n",
       "      <td>0</td>\n",
       "      <td>-2879.202052</td>\n",
       "      <td>43</td>\n",
       "      <td>высшее</td>\n",
       "      <td>0</td>\n",
       "      <td>женат / замужем</td>\n",
       "      <td>0</td>\n",
       "      <td>F</td>\n",
       "      <td>компаньон</td>\n",
       "      <td>0</td>\n",
       "      <td>240525.971920</td>\n",
       "      <td>операции с жильем</td>\n",
       "    </tr>\n",
       "    <tr>\n",
       "      <th>7</th>\n",
       "      <td>0</td>\n",
       "      <td>-152.779569</td>\n",
       "      <td>50</td>\n",
       "      <td>СРЕДНЕЕ</td>\n",
       "      <td>1</td>\n",
       "      <td>женат / замужем</td>\n",
       "      <td>0</td>\n",
       "      <td>M</td>\n",
       "      <td>сотрудник</td>\n",
       "      <td>0</td>\n",
       "      <td>135823.934197</td>\n",
       "      <td>образование</td>\n",
       "    </tr>\n",
       "    <tr>\n",
       "      <th>8</th>\n",
       "      <td>2</td>\n",
       "      <td>-6929.865299</td>\n",
       "      <td>35</td>\n",
       "      <td>ВЫСШЕЕ</td>\n",
       "      <td>0</td>\n",
       "      <td>гражданский брак</td>\n",
       "      <td>1</td>\n",
       "      <td>F</td>\n",
       "      <td>сотрудник</td>\n",
       "      <td>0</td>\n",
       "      <td>95856.832424</td>\n",
       "      <td>на проведение свадьбы</td>\n",
       "    </tr>\n",
       "    <tr>\n",
       "      <th>9</th>\n",
       "      <td>0</td>\n",
       "      <td>-2188.756445</td>\n",
       "      <td>41</td>\n",
       "      <td>среднее</td>\n",
       "      <td>1</td>\n",
       "      <td>женат / замужем</td>\n",
       "      <td>0</td>\n",
       "      <td>M</td>\n",
       "      <td>сотрудник</td>\n",
       "      <td>0</td>\n",
       "      <td>144425.938277</td>\n",
       "      <td>покупка жилья для семьи</td>\n",
       "    </tr>\n",
       "    <tr>\n",
       "      <th>10</th>\n",
       "      <td>2</td>\n",
       "      <td>-4171.483647</td>\n",
       "      <td>36</td>\n",
       "      <td>высшее</td>\n",
       "      <td>0</td>\n",
       "      <td>женат / замужем</td>\n",
       "      <td>0</td>\n",
       "      <td>M</td>\n",
       "      <td>компаньон</td>\n",
       "      <td>0</td>\n",
       "      <td>113943.491460</td>\n",
       "      <td>покупка недвижимости</td>\n",
       "    </tr>\n",
       "    <tr>\n",
       "      <th>11</th>\n",
       "      <td>0</td>\n",
       "      <td>-792.701887</td>\n",
       "      <td>40</td>\n",
       "      <td>среднее</td>\n",
       "      <td>1</td>\n",
       "      <td>женат / замужем</td>\n",
       "      <td>0</td>\n",
       "      <td>F</td>\n",
       "      <td>сотрудник</td>\n",
       "      <td>0</td>\n",
       "      <td>77069.234271</td>\n",
       "      <td>покупка коммерческой недвижимости</td>\n",
       "    </tr>\n",
       "    <tr>\n",
       "      <th>12</th>\n",
       "      <td>0</td>\n",
       "      <td>NaN</td>\n",
       "      <td>65</td>\n",
       "      <td>среднее</td>\n",
       "      <td>1</td>\n",
       "      <td>гражданский брак</td>\n",
       "      <td>1</td>\n",
       "      <td>M</td>\n",
       "      <td>пенсионер</td>\n",
       "      <td>0</td>\n",
       "      <td>NaN</td>\n",
       "      <td>сыграть свадьбу</td>\n",
       "    </tr>\n",
       "    <tr>\n",
       "      <th>13</th>\n",
       "      <td>0</td>\n",
       "      <td>-1846.641941</td>\n",
       "      <td>54</td>\n",
       "      <td>неоконченное высшее</td>\n",
       "      <td>2</td>\n",
       "      <td>женат / замужем</td>\n",
       "      <td>0</td>\n",
       "      <td>F</td>\n",
       "      <td>сотрудник</td>\n",
       "      <td>0</td>\n",
       "      <td>130458.228857</td>\n",
       "      <td>приобретение автомобиля</td>\n",
       "    </tr>\n",
       "    <tr>\n",
       "      <th>14</th>\n",
       "      <td>0</td>\n",
       "      <td>-1844.956182</td>\n",
       "      <td>56</td>\n",
       "      <td>высшее</td>\n",
       "      <td>0</td>\n",
       "      <td>гражданский брак</td>\n",
       "      <td>1</td>\n",
       "      <td>F</td>\n",
       "      <td>компаньон</td>\n",
       "      <td>1</td>\n",
       "      <td>165127.911772</td>\n",
       "      <td>покупка жилой недвижимости</td>\n",
       "    </tr>\n",
       "    <tr>\n",
       "      <th>15</th>\n",
       "      <td>1</td>\n",
       "      <td>-972.364419</td>\n",
       "      <td>26</td>\n",
       "      <td>среднее</td>\n",
       "      <td>1</td>\n",
       "      <td>женат / замужем</td>\n",
       "      <td>0</td>\n",
       "      <td>F</td>\n",
       "      <td>сотрудник</td>\n",
       "      <td>0</td>\n",
       "      <td>116820.904450</td>\n",
       "      <td>строительство собственной недвижимости</td>\n",
       "    </tr>\n",
       "    <tr>\n",
       "      <th>16</th>\n",
       "      <td>0</td>\n",
       "      <td>-1719.934226</td>\n",
       "      <td>35</td>\n",
       "      <td>среднее</td>\n",
       "      <td>1</td>\n",
       "      <td>женат / замужем</td>\n",
       "      <td>0</td>\n",
       "      <td>F</td>\n",
       "      <td>сотрудник</td>\n",
       "      <td>0</td>\n",
       "      <td>289202.704229</td>\n",
       "      <td>недвижимость</td>\n",
       "    </tr>\n",
       "    <tr>\n",
       "      <th>17</th>\n",
       "      <td>0</td>\n",
       "      <td>-2369.999720</td>\n",
       "      <td>33</td>\n",
       "      <td>высшее</td>\n",
       "      <td>0</td>\n",
       "      <td>гражданский брак</td>\n",
       "      <td>1</td>\n",
       "      <td>M</td>\n",
       "      <td>сотрудник</td>\n",
       "      <td>0</td>\n",
       "      <td>90410.586745</td>\n",
       "      <td>строительство недвижимости</td>\n",
       "    </tr>\n",
       "    <tr>\n",
       "      <th>18</th>\n",
       "      <td>0</td>\n",
       "      <td>400281.136913</td>\n",
       "      <td>53</td>\n",
       "      <td>среднее</td>\n",
       "      <td>1</td>\n",
       "      <td>вдовец / вдова</td>\n",
       "      <td>2</td>\n",
       "      <td>F</td>\n",
       "      <td>пенсионер</td>\n",
       "      <td>0</td>\n",
       "      <td>56823.777243</td>\n",
       "      <td>на покупку подержанного автомобиля</td>\n",
       "    </tr>\n",
       "    <tr>\n",
       "      <th>19</th>\n",
       "      <td>0</td>\n",
       "      <td>-10038.818549</td>\n",
       "      <td>48</td>\n",
       "      <td>СРЕДНЕЕ</td>\n",
       "      <td>1</td>\n",
       "      <td>в разводе</td>\n",
       "      <td>3</td>\n",
       "      <td>F</td>\n",
       "      <td>сотрудник</td>\n",
       "      <td>0</td>\n",
       "      <td>242831.107982</td>\n",
       "      <td>на покупку своего автомобиля</td>\n",
       "    </tr>\n",
       "  </tbody>\n",
       "</table>\n",
       "</div>"
      ],
      "text/plain": [
       "    children  days_employed  dob_years            education  education_id  \\\n",
       "0          1   -8437.673028         42               высшее             0   \n",
       "1          1   -4024.803754         36              среднее             1   \n",
       "2          0   -5623.422610         33              Среднее             1   \n",
       "3          3   -4124.747207         32              среднее             1   \n",
       "4          0  340266.072047         53              среднее             1   \n",
       "5          0    -926.185831         27               высшее             0   \n",
       "6          0   -2879.202052         43               высшее             0   \n",
       "7          0    -152.779569         50              СРЕДНЕЕ             1   \n",
       "8          2   -6929.865299         35               ВЫСШЕЕ             0   \n",
       "9          0   -2188.756445         41              среднее             1   \n",
       "10         2   -4171.483647         36               высшее             0   \n",
       "11         0    -792.701887         40              среднее             1   \n",
       "12         0            NaN         65              среднее             1   \n",
       "13         0   -1846.641941         54  неоконченное высшее             2   \n",
       "14         0   -1844.956182         56               высшее             0   \n",
       "15         1    -972.364419         26              среднее             1   \n",
       "16         0   -1719.934226         35              среднее             1   \n",
       "17         0   -2369.999720         33               высшее             0   \n",
       "18         0  400281.136913         53              среднее             1   \n",
       "19         0  -10038.818549         48              СРЕДНЕЕ             1   \n",
       "\n",
       "       family_status  family_status_id gender income_type  debt  \\\n",
       "0    женат / замужем                 0      F   сотрудник     0   \n",
       "1    женат / замужем                 0      F   сотрудник     0   \n",
       "2    женат / замужем                 0      M   сотрудник     0   \n",
       "3    женат / замужем                 0      M   сотрудник     0   \n",
       "4   гражданский брак                 1      F   пенсионер     0   \n",
       "5   гражданский брак                 1      M   компаньон     0   \n",
       "6    женат / замужем                 0      F   компаньон     0   \n",
       "7    женат / замужем                 0      M   сотрудник     0   \n",
       "8   гражданский брак                 1      F   сотрудник     0   \n",
       "9    женат / замужем                 0      M   сотрудник     0   \n",
       "10   женат / замужем                 0      M   компаньон     0   \n",
       "11   женат / замужем                 0      F   сотрудник     0   \n",
       "12  гражданский брак                 1      M   пенсионер     0   \n",
       "13   женат / замужем                 0      F   сотрудник     0   \n",
       "14  гражданский брак                 1      F   компаньон     1   \n",
       "15   женат / замужем                 0      F   сотрудник     0   \n",
       "16   женат / замужем                 0      F   сотрудник     0   \n",
       "17  гражданский брак                 1      M   сотрудник     0   \n",
       "18    вдовец / вдова                 2      F   пенсионер     0   \n",
       "19         в разводе                 3      F   сотрудник     0   \n",
       "\n",
       "     total_income                                 purpose  \n",
       "0   253875.639453                           покупка жилья  \n",
       "1   112080.014102                 приобретение автомобиля  \n",
       "2   145885.952297                           покупка жилья  \n",
       "3   267628.550329              дополнительное образование  \n",
       "4   158616.077870                         сыграть свадьбу  \n",
       "5   255763.565419                           покупка жилья  \n",
       "6   240525.971920                       операции с жильем  \n",
       "7   135823.934197                             образование  \n",
       "8    95856.832424                   на проведение свадьбы  \n",
       "9   144425.938277                 покупка жилья для семьи  \n",
       "10  113943.491460                    покупка недвижимости  \n",
       "11   77069.234271       покупка коммерческой недвижимости  \n",
       "12            NaN                         сыграть свадьбу  \n",
       "13  130458.228857                 приобретение автомобиля  \n",
       "14  165127.911772              покупка жилой недвижимости  \n",
       "15  116820.904450  строительство собственной недвижимости  \n",
       "16  289202.704229                            недвижимость  \n",
       "17   90410.586745              строительство недвижимости  \n",
       "18   56823.777243      на покупку подержанного автомобиля  \n",
       "19  242831.107982            на покупку своего автомобиля  "
      ]
     },
     "execution_count": 2,
     "metadata": {},
     "output_type": "execute_result"
    }
   ],
   "source": [
    "data.head(20)"
   ]
  },
  {
   "cell_type": "markdown",
   "id": "0ed8f27f",
   "metadata": {
    "deletable": false,
    "editable": false,
    "id": "0ed8f27f"
   },
   "source": [
    "**Задание 3. Выведите основную информацию о датафрейме с помощью метода `info()`.**"
   ]
  },
  {
   "cell_type": "code",
   "execution_count": 3,
   "id": "ab3f863b",
   "metadata": {
    "deletable": false,
    "id": "ab3f863b",
    "outputId": "15376089-8dad-46c9-b520-c05248d43158"
   },
   "outputs": [
    {
     "name": "stdout",
     "output_type": "stream",
     "text": [
      "<class 'pandas.core.frame.DataFrame'>\n",
      "RangeIndex: 21525 entries, 0 to 21524\n",
      "Data columns (total 12 columns):\n",
      " #   Column            Non-Null Count  Dtype  \n",
      "---  ------            --------------  -----  \n",
      " 0   children          21525 non-null  int64  \n",
      " 1   days_employed     19351 non-null  float64\n",
      " 2   dob_years         21525 non-null  int64  \n",
      " 3   education         21525 non-null  object \n",
      " 4   education_id      21525 non-null  int64  \n",
      " 5   family_status     21525 non-null  object \n",
      " 6   family_status_id  21525 non-null  int64  \n",
      " 7   gender            21525 non-null  object \n",
      " 8   income_type       21525 non-null  object \n",
      " 9   debt              21525 non-null  int64  \n",
      " 10  total_income      19351 non-null  float64\n",
      " 11  purpose           21525 non-null  object \n",
      "dtypes: float64(2), int64(5), object(5)\n",
      "memory usage: 2.0+ MB\n"
     ]
    }
   ],
   "source": [
    "data.info()"
   ]
  },
  {
   "cell_type": "markdown",
   "id": "60e3e22d",
   "metadata": {
    "deletable": false,
    "editable": false,
    "id": "60e3e22d"
   },
   "source": [
    "## Предобработка данных"
   ]
  },
  {
   "cell_type": "markdown",
   "id": "03dc170c",
   "metadata": {
    "deletable": false,
    "editable": false,
    "id": "03dc170c"
   },
   "source": [
    "### Удаление пропусков"
   ]
  },
  {
   "cell_type": "markdown",
   "id": "a4f54eef",
   "metadata": {
    "deletable": false,
    "editable": false,
    "id": "a4f54eef"
   },
   "source": [
    "**Задание 4. Выведите количество пропущенных значений для каждого столбца. Используйте комбинацию двух методов.**"
   ]
  },
  {
   "cell_type": "code",
   "execution_count": 4,
   "id": "2dc372b2",
   "metadata": {
    "deletable": false,
    "id": "2dc372b2",
    "outputId": "81f4d817-781c-465c-ed15-91ce4446810d"
   },
   "outputs": [
    {
     "data": {
      "text/plain": [
       "children               0\n",
       "days_employed       2174\n",
       "dob_years              0\n",
       "education              0\n",
       "education_id           0\n",
       "family_status          0\n",
       "family_status_id       0\n",
       "gender                 0\n",
       "income_type            0\n",
       "debt                   0\n",
       "total_income        2174\n",
       "purpose                0\n",
       "dtype: int64"
      ]
     },
     "execution_count": 4,
     "metadata": {},
     "output_type": "execute_result"
    }
   ],
   "source": [
    "data.isna().sum()"
   ]
  },
  {
   "cell_type": "markdown",
   "id": "14f011b1",
   "metadata": {
    "deletable": false,
    "editable": false,
    "id": "14f011b1"
   },
   "source": [
    "**Задание 5. В двух столбцах есть пропущенные значения. Один из них — `days_employed`. Пропуски в этом столбце вы обработаете на следующем этапе. Другой столбец с пропущенными значениями — `total_income` — хранит данные о доходах. На сумму дохода сильнее всего влияет тип занятости, поэтому заполнить пропуски в этом столбце нужно медианным значением по каждому типу из столбца `income_type`. Например, у человека с типом занятости `сотрудник` пропуск в столбце `total_income` должен быть заполнен медианным доходом среди всех записей с тем же типом.**"
   ]
  },
  {
   "cell_type": "code",
   "execution_count": 5,
   "id": "bdabfb6e",
   "metadata": {
    "deletable": false,
    "id": "bdabfb6e"
   },
   "outputs": [],
   "source": [
    "for t in data['income_type'].unique():\n",
    "    data.loc[(data['income_type'] == t) & (data['total_income'].isna()), 'total_income'] = \\\n",
    "    data.loc[(data['income_type'] == t), 'total_income'].median()"
   ]
  },
  {
   "cell_type": "markdown",
   "id": "5be34059",
   "metadata": {
    "deletable": false,
    "editable": false,
    "id": "5be34059"
   },
   "source": [
    "### Обработка аномальных значений"
   ]
  },
  {
   "cell_type": "markdown",
   "id": "a87606cb",
   "metadata": {
    "deletable": false,
    "editable": false,
    "id": "a87606cb"
   },
   "source": [
    "**Задание 6. В данных могут встречаться артефакты (аномалии) — значения, которые не отражают действительность и появились по какой-то ошибке. таким артефактом будет отрицательное количество дней трудового стажа в столбце `days_employed`. Для реальных данных это нормально. Обработайте значения в этом столбце: замените все отрицательные значения положительными с помощью метода `abs()`.**"
   ]
  },
  {
   "cell_type": "code",
   "execution_count": 6,
   "id": "020c46cc",
   "metadata": {
    "deletable": false,
    "id": "020c46cc"
   },
   "outputs": [],
   "source": [
    "data['days_employed'] = data['days_employed'].abs()"
   ]
  },
  {
   "cell_type": "markdown",
   "id": "45538a3a",
   "metadata": {
    "deletable": false,
    "editable": false,
    "id": "45538a3a"
   },
   "source": [
    "**Задание 7. Для каждого типа занятости выведите медианное значение трудового стажа `days_employed` в днях.**"
   ]
  },
  {
   "cell_type": "code",
   "execution_count": 7,
   "id": "cd3e6328",
   "metadata": {
    "deletable": false,
    "id": "cd3e6328",
    "outputId": "801ef80e-522b-4668-f34e-565af7432bcf"
   },
   "outputs": [
    {
     "data": {
      "text/plain": [
       "income_type\n",
       "безработный        366413.652744\n",
       "в декрете            3296.759962\n",
       "госслужащий          2689.368353\n",
       "компаньон            1547.382223\n",
       "пенсионер          365213.306266\n",
       "предприниматель       520.848083\n",
       "сотрудник            1574.202821\n",
       "студент               578.751554\n",
       "Name: days_employed, dtype: float64"
      ]
     },
     "execution_count": 7,
     "metadata": {},
     "output_type": "execute_result"
    }
   ],
   "source": [
    "data.groupby('income_type')['days_employed'].agg('median')"
   ]
  },
  {
   "cell_type": "markdown",
   "id": "90c5f058",
   "metadata": {
    "deletable": false,
    "editable": false,
    "id": "90c5f058"
   },
   "source": [
    "У двух типов (безработные и пенсионеры) получатся аномально большие значения. Исправить такие значения сложно, поэтому оставьте их как есть."
   ]
  },
  {
   "cell_type": "markdown",
   "id": "9652e50d",
   "metadata": {
    "deletable": false,
    "editable": false,
    "id": "9652e50d"
   },
   "source": [
    "**Задание 8. Выведите перечень уникальных значений столбца `children`.**"
   ]
  },
  {
   "cell_type": "code",
   "execution_count": 8,
   "id": "dbb37b8e",
   "metadata": {
    "deletable": false,
    "id": "dbb37b8e",
    "outputId": "6975b15c-7f95-4697-d16d-a0c79b657b03"
   },
   "outputs": [
    {
     "data": {
      "text/plain": [
       "array([ 1,  0,  3,  2, -1,  4, 20,  5])"
      ]
     },
     "execution_count": 8,
     "metadata": {},
     "output_type": "execute_result"
    }
   ],
   "source": [
    "data['children'].unique()"
   ]
  },
  {
   "cell_type": "markdown",
   "id": "2b8b0715",
   "metadata": {
    "deletable": false,
    "editable": false,
    "id": "2b8b0715"
   },
   "source": [
    "**Задание 9. В столбце `children` есть два аномальных значения. Удалите строки, в которых встречаются такие аномальные значения из датафрейма `data`.**"
   ]
  },
  {
   "cell_type": "code",
   "execution_count": 9,
   "id": "20009df8",
   "metadata": {
    "deletable": false,
    "id": "20009df8"
   },
   "outputs": [],
   "source": [
    "data = data[(data['children'] != -1) & (data['children'] != 20)]"
   ]
  },
  {
   "cell_type": "markdown",
   "id": "8c6ac9f1",
   "metadata": {
    "deletable": false,
    "editable": false,
    "id": "8c6ac9f1"
   },
   "source": [
    "**Задание 10. Ещё раз выведите перечень уникальных значений столбца `children`, чтобы убедиться, что артефакты удалены.**"
   ]
  },
  {
   "cell_type": "code",
   "execution_count": 10,
   "id": "07337b81",
   "metadata": {
    "deletable": false,
    "id": "07337b81",
    "outputId": "b2097101-d49d-44d9-901b-32a65c9463d1"
   },
   "outputs": [
    {
     "data": {
      "text/plain": [
       "array([1, 0, 3, 2, 4, 5])"
      ]
     },
     "execution_count": 10,
     "metadata": {},
     "output_type": "execute_result"
    }
   ],
   "source": [
    "data['children'].unique()"
   ]
  },
  {
   "cell_type": "markdown",
   "id": "ee3f52d4",
   "metadata": {
    "deletable": false,
    "editable": false,
    "id": "ee3f52d4"
   },
   "source": [
    "### Удаление пропусков (продолжение)"
   ]
  },
  {
   "cell_type": "markdown",
   "id": "a700b0e4",
   "metadata": {
    "deletable": false,
    "editable": false,
    "id": "a700b0e4"
   },
   "source": [
    "**Задание 11. Заполните пропуски в столбце `days_employed` медианными значениями по каждого типа занятости `income_type`.**"
   ]
  },
  {
   "cell_type": "code",
   "execution_count": 11,
   "id": "61946b83",
   "metadata": {
    "deletable": false,
    "id": "61946b83"
   },
   "outputs": [],
   "source": [
    "for t in data['income_type'].unique():\n",
    "    data.loc[(data['income_type'] == t) & (data['days_employed'].isna()), 'days_employed'] = \\\n",
    "    data.loc[(data['income_type'] == t), 'days_employed'].median()"
   ]
  },
  {
   "cell_type": "markdown",
   "id": "550dcd9b",
   "metadata": {
    "deletable": false,
    "editable": false,
    "id": "550dcd9b"
   },
   "source": [
    "**Задание 12. Убедитесь, что все пропуски заполнены. Проверьте себя и ещё раз выведите количество пропущенных значений для каждого столбца с помощью двух методов.**"
   ]
  },
  {
   "cell_type": "code",
   "execution_count": 12,
   "id": "937c7014",
   "metadata": {
    "deletable": false,
    "id": "937c7014",
    "outputId": "8da1e4e1-358e-4e87-98c9-f261bce0a7b2"
   },
   "outputs": [
    {
     "data": {
      "text/plain": [
       "children            0\n",
       "days_employed       0\n",
       "dob_years           0\n",
       "education           0\n",
       "education_id        0\n",
       "family_status       0\n",
       "family_status_id    0\n",
       "gender              0\n",
       "income_type         0\n",
       "debt                0\n",
       "total_income        0\n",
       "purpose             0\n",
       "dtype: int64"
      ]
     },
     "execution_count": 12,
     "metadata": {},
     "output_type": "execute_result"
    }
   ],
   "source": [
    "data.isna().sum()"
   ]
  },
  {
   "cell_type": "markdown",
   "id": "d522e295",
   "metadata": {
    "deletable": false,
    "editable": false,
    "id": "d522e295"
   },
   "source": [
    "### Изменение типов данных"
   ]
  },
  {
   "cell_type": "markdown",
   "id": "c229c581",
   "metadata": {
    "deletable": false,
    "editable": false,
    "id": "c229c581"
   },
   "source": [
    "**Задание 13. Замените вещественный тип данных в столбце `total_income` на целочисленный с помощью метода `astype()`.**"
   ]
  },
  {
   "cell_type": "code",
   "execution_count": 13,
   "id": "31036462",
   "metadata": {
    "deletable": false,
    "id": "31036462"
   },
   "outputs": [],
   "source": [
    "data['total_income'] = data['total_income'].astype(int)"
   ]
  },
  {
   "cell_type": "markdown",
   "id": "b8e3d1d9",
   "metadata": {
    "deletable": false,
    "editable": false,
    "id": "b8e3d1d9"
   },
   "source": [
    "### Обработка дубликатов"
   ]
  },
  {
   "cell_type": "markdown",
   "id": "9be53c49",
   "metadata": {
    "deletable": false,
    "editable": false,
    "id": "9be53c49"
   },
   "source": [
    "**Задание 14. Обработайте неявные дубликаты в столбце `education`. В этом столбце есть одни и те же значения, но записанные по-разному: с использованием заглавных и строчных букв. Приведите их к нижнему регистру.**"
   ]
  },
  {
   "cell_type": "code",
   "execution_count": 14,
   "id": "d89e73e1",
   "metadata": {
    "deletable": false,
    "id": "d89e73e1"
   },
   "outputs": [],
   "source": [
    "data['education'] = data['education'].str.lower()"
   ]
  },
  {
   "cell_type": "markdown",
   "id": "01d4500e",
   "metadata": {
    "deletable": false,
    "editable": false,
    "id": "01d4500e"
   },
   "source": [
    "**Задание 15. Выведите на экран количество строк-дубликатов в данных. Если такие строки присутствуют, удалите их.**"
   ]
  },
  {
   "cell_type": "code",
   "execution_count": 15,
   "id": "e10efb23",
   "metadata": {
    "deletable": false,
    "id": "e10efb23",
    "outputId": "9684deba-1934-42d1-99e1-cda61740f822"
   },
   "outputs": [
    {
     "data": {
      "text/plain": [
       "71"
      ]
     },
     "execution_count": 15,
     "metadata": {},
     "output_type": "execute_result"
    }
   ],
   "source": [
    "data.duplicated().sum()"
   ]
  },
  {
   "cell_type": "code",
   "execution_count": 16,
   "id": "df853f20",
   "metadata": {
    "deletable": false,
    "id": "df853f20"
   },
   "outputs": [],
   "source": [
    "data = data.drop_duplicates()"
   ]
  },
  {
   "cell_type": "markdown",
   "id": "627be38f",
   "metadata": {
    "deletable": false,
    "editable": false,
    "id": "627be38f"
   },
   "source": [
    "### Категоризация данных"
   ]
  },
  {
   "cell_type": "markdown",
   "id": "4684c3e0",
   "metadata": {
    "deletable": false,
    "editable": false,
    "id": "4684c3e0"
   },
   "source": [
    "**Задание 16. На основании диапазонов, указанных ниже, создайте в датафрейме `data` столбец `total_income_category` с категориями:**\n",
    "\n",
    "- 0–30000 — `'E'`;\n",
    "- 30001–50000 — `'D'`;\n",
    "- 50001–200000 — `'C'`;\n",
    "- 200001–1000000 — `'B'`;\n",
    "- 1000001 и выше — `'A'`.\n",
    "\n",
    "\n",
    "**Например, кредитополучателю с доходом 25000 нужно назначить категорию `'E'`, а клиенту, получающему 235000, — `'B'`. Используйте собственную функцию с именем `categorize_income()` и метод `apply()`.**"
   ]
  },
  {
   "cell_type": "code",
   "execution_count": 17,
   "id": "78965238",
   "metadata": {
    "deletable": false,
    "id": "78965238"
   },
   "outputs": [],
   "source": [
    "def categorize_income(income):\n",
    "    try:\n",
    "        if 0 <= income <= 30000:\n",
    "            return 'E'\n",
    "        elif 30001 <= income <= 50000:\n",
    "            return 'D'\n",
    "        elif 50001 <= income <= 200000:\n",
    "            return 'C'\n",
    "        elif 200001 <= income <= 1000000:\n",
    "            return 'B'\n",
    "        elif income >= 1000001:\n",
    "            return 'A'\n",
    "    except:\n",
    "        pass"
   ]
  },
  {
   "cell_type": "code",
   "execution_count": 18,
   "id": "0980ada1",
   "metadata": {
    "deletable": false,
    "id": "0980ada1"
   },
   "outputs": [],
   "source": [
    "data['total_income_category'] = data['total_income'].apply(categorize_income)"
   ]
  },
  {
   "cell_type": "markdown",
   "id": "9917bba0",
   "metadata": {
    "deletable": false,
    "editable": false,
    "id": "9917bba0"
   },
   "source": [
    "**Задание 17. Выведите на экран перечень уникальных целей взятия кредита из столбца `purpose`.**"
   ]
  },
  {
   "cell_type": "code",
   "execution_count": 19,
   "id": "ee07b65e",
   "metadata": {
    "deletable": false,
    "id": "ee07b65e",
    "outputId": "673c12d9-7d7e-4ae0-9812-c622c89dd244"
   },
   "outputs": [
    {
     "data": {
      "text/plain": [
       "array(['покупка жилья', 'приобретение автомобиля',\n",
       "       'дополнительное образование', 'сыграть свадьбу',\n",
       "       'операции с жильем', 'образование', 'на проведение свадьбы',\n",
       "       'покупка жилья для семьи', 'покупка недвижимости',\n",
       "       'покупка коммерческой недвижимости', 'покупка жилой недвижимости',\n",
       "       'строительство собственной недвижимости', 'недвижимость',\n",
       "       'строительство недвижимости', 'на покупку подержанного автомобиля',\n",
       "       'на покупку своего автомобиля',\n",
       "       'операции с коммерческой недвижимостью',\n",
       "       'строительство жилой недвижимости', 'жилье',\n",
       "       'операции со своей недвижимостью', 'автомобили',\n",
       "       'заняться образованием', 'сделка с подержанным автомобилем',\n",
       "       'получение образования', 'автомобиль', 'свадьба',\n",
       "       'получение дополнительного образования', 'покупка своего жилья',\n",
       "       'операции с недвижимостью', 'получение высшего образования',\n",
       "       'свой автомобиль', 'сделка с автомобилем',\n",
       "       'профильное образование', 'высшее образование',\n",
       "       'покупка жилья для сдачи', 'на покупку автомобиля', 'ремонт жилью',\n",
       "       'заняться высшим образованием'], dtype=object)"
      ]
     },
     "execution_count": 19,
     "metadata": {},
     "output_type": "execute_result"
    }
   ],
   "source": [
    "data['purpose'].unique()"
   ]
  },
  {
   "cell_type": "markdown",
   "id": "52b79d56",
   "metadata": {
    "deletable": false,
    "editable": false,
    "id": "52b79d56"
   },
   "source": [
    "**Задание 18. Создайте функцию, которая на основании данных из столбца `purpose` сформирует новый столбец `purpose_category`, в который войдут следующие категории:**\n",
    "\n",
    "- `'операции с автомобилем'`,\n",
    "- `'операции с недвижимостью'`,\n",
    "- `'проведение свадьбы'`,\n",
    "- `'получение образования'`.\n",
    "\n",
    "**Например, если в столбце `purpose` находится подстрока `'на покупку автомобиля'`, то в столбце `purpose_category` должна появиться строка `'операции с автомобилем'`.**\n",
    "\n",
    "**Используйте собственную функцию с именем `categorize_purpose()` и метод `apply()`. Изучите данные в столбце `purpose` и определите, какие подстроки помогут вам правильно определить категорию.**"
   ]
  },
  {
   "cell_type": "code",
   "execution_count": 20,
   "id": "be41da5d",
   "metadata": {
    "deletable": false,
    "id": "be41da5d"
   },
   "outputs": [],
   "source": [
    "def categorize_purpose(row):\n",
    "    try:\n",
    "        if 'автом' in row:\n",
    "            return 'операции с автомобилем'\n",
    "        elif 'жил' in row or 'недвиж' in row:\n",
    "            return 'операции с недвижимостью'\n",
    "        elif 'свад' in row:\n",
    "            return 'проведение свадьбы'\n",
    "        elif 'образов' in row:\n",
    "            return 'получение образования'\n",
    "    except:\n",
    "        return 'нет категории'"
   ]
  },
  {
   "cell_type": "code",
   "execution_count": 21,
   "id": "94c4a19a",
   "metadata": {
    "deletable": false,
    "id": "94c4a19a"
   },
   "outputs": [],
   "source": [
    "data['purpose_category'] = data['purpose'].apply(categorize_purpose)"
   ]
  },
  {
   "cell_type": "markdown",
   "id": "3d596c34",
   "metadata": {
    "deletable": false,
    "editable": false,
    "id": "3d596c34"
   },
   "source": [
    "### Шаг 3. Исследуйте данные и ответьте на вопросы"
   ]
  },
  {
   "cell_type": "markdown",
   "id": "648db036",
   "metadata": {
    "deletable": false,
    "editable": false,
    "id": "648db036"
   },
   "source": [
    "#### 3.1 Есть ли зависимость между количеством детей и возвратом кредита в срок?"
   ]
  },
  {
   "cell_type": "code",
   "execution_count": 22,
   "id": "7fcff25e",
   "metadata": {
    "deletable": false,
    "id": "7fcff25e"
   },
   "outputs": [
    {
     "data": {
      "text/html": [
       "<div>\n",
       "<style scoped>\n",
       "    .dataframe tbody tr th:only-of-type {\n",
       "        vertical-align: middle;\n",
       "    }\n",
       "\n",
       "    .dataframe tbody tr th {\n",
       "        vertical-align: top;\n",
       "    }\n",
       "\n",
       "    .dataframe thead th {\n",
       "        text-align: right;\n",
       "    }\n",
       "</style>\n",
       "<table border=\"1\" class=\"dataframe\">\n",
       "  <thead>\n",
       "    <tr style=\"text-align: right;\">\n",
       "      <th></th>\n",
       "      <th>total_credits</th>\n",
       "      <th>payment_delays</th>\n",
       "      <th>proportion</th>\n",
       "    </tr>\n",
       "    <tr>\n",
       "      <th>children</th>\n",
       "      <th></th>\n",
       "      <th></th>\n",
       "      <th></th>\n",
       "    </tr>\n",
       "  </thead>\n",
       "  <tbody>\n",
       "    <tr>\n",
       "      <th>5</th>\n",
       "      <td>9</td>\n",
       "      <td>0</td>\n",
       "      <td>0.0%</td>\n",
       "    </tr>\n",
       "    <tr>\n",
       "      <th>0</th>\n",
       "      <td>14091</td>\n",
       "      <td>1063</td>\n",
       "      <td>7.5%</td>\n",
       "    </tr>\n",
       "    <tr>\n",
       "      <th>3</th>\n",
       "      <td>330</td>\n",
       "      <td>27</td>\n",
       "      <td>8.2%</td>\n",
       "    </tr>\n",
       "    <tr>\n",
       "      <th>1</th>\n",
       "      <td>4808</td>\n",
       "      <td>444</td>\n",
       "      <td>9.2%</td>\n",
       "    </tr>\n",
       "    <tr>\n",
       "      <th>2</th>\n",
       "      <td>2052</td>\n",
       "      <td>194</td>\n",
       "      <td>9.5%</td>\n",
       "    </tr>\n",
       "    <tr>\n",
       "      <th>4</th>\n",
       "      <td>41</td>\n",
       "      <td>4</td>\n",
       "      <td>9.8%</td>\n",
       "    </tr>\n",
       "  </tbody>\n",
       "</table>\n",
       "</div>"
      ],
      "text/plain": [
       "          total_credits  payment_delays proportion\n",
       "children                                          \n",
       "5                     9               0       0.0%\n",
       "0                 14091            1063       7.5%\n",
       "3                   330              27       8.2%\n",
       "1                  4808             444       9.2%\n",
       "2                  2052             194       9.5%\n",
       "4                    41               4       9.8%"
      ]
     },
     "metadata": {},
     "output_type": "display_data"
    }
   ],
   "source": [
    "# Ваш код будет здесь. Вы можете создавать новые ячейки.\n",
    "# Сведём исследуемые данные в одну таблицу, где их сгруппируем по количеству детей и посчитаем число фактов задолженностей,\n",
    "# выведя их долю от общего количества в данной категории.\n",
    "tab = data.pivot_table(index = ['children'], values = 'debt', aggfunc = {'count','sum'})\n",
    "tab = tab.rename(columns={'count':'total_credits','sum':'payment_delays'})\n",
    "tab['proportion'] = round(tab['payment_delays']/tab['total_credits'], 3)\n",
    "tab['proportion'] = tab['proportion'].transform(lambda x: '{:,.1%}'.format(x))\n",
    "tab = tab.sort_values(by='proportion', ascending=True)\n",
    "display(tab)"
   ]
  },
  {
   "cell_type": "markdown",
   "id": "2eb9088e",
   "metadata": {
    "deletable": false,
    "id": "2eb9088e"
   },
   "source": [
    "**Вывод:** \n",
    "можно сказать, что видна _маленькая_ зависимость погашения кредита в срок от количества детей. Данные по заёмщикам с 5 детьми в анализе можно не учитывать из-за их малого количества (9), хотя у них и нет ни одной просрочки.<br>\n",
    "_Больше всего_ кредитов у бездетных, однако у них же _меньше всего_ доля просрочек платежей. Такой факт можно объяснить их _более сильной платёжеспособностью_ из-за меньших расходов.<br>\n",
    "Также _мало просрочек_ у заёмщиков с 3 детьми, видимо, из-за большей их ответственности (сюда можно отнести семьи с 5 детьми). Однако из числа _ответственных_ многодетных заёмщиков _выпадает_ группа с 4 детьми, доля которых наибольшая в числе просрочек - почти 10%. В то же время их количество _непоказательно_ для того, чтобы делать однозначный вывод, потому то общее число многодетных заёмщиков (3-5 детей) 380 человек, что составляет менее 1,8% от общего числа (21525).<br>\n",
    "Одновременно у людей с 1-2 детьми _практически одинаковые_ доли в просрочках по кредитам, но у семей с 2 детьми доля просрочек больше. Это можно объяснить более высокой финансовой нагрузкой.<br>\n",
    "Для _полного подтверждения гипотезы_ нужно больше данных по многодетным семьям, хотя можно предположить, что у них _меньше необходимости_ прибегать к кредитным продуктам из-за детских пособий, которые составляют 40% от средней зарплаты за предыдущие два года или от 50 до 100% прожиточного минимума в регионе. Ещё здесь роль играет материнский капитал."
   ]
  },
  {
   "cell_type": "markdown",
   "id": "74c9b3a7",
   "metadata": {
    "deletable": false,
    "editable": false,
    "id": "74c9b3a7"
   },
   "source": [
    "#### 3.2 Есть ли зависимость между семейным положением и возвратом кредита в срок?"
   ]
  },
  {
   "cell_type": "code",
   "execution_count": 23,
   "id": "8098ab3b",
   "metadata": {
    "deletable": false,
    "id": "8098ab3b"
   },
   "outputs": [
    {
     "data": {
      "text/html": [
       "<div>\n",
       "<style scoped>\n",
       "    .dataframe tbody tr th:only-of-type {\n",
       "        vertical-align: middle;\n",
       "    }\n",
       "\n",
       "    .dataframe tbody tr th {\n",
       "        vertical-align: top;\n",
       "    }\n",
       "\n",
       "    .dataframe thead th {\n",
       "        text-align: right;\n",
       "    }\n",
       "</style>\n",
       "<table border=\"1\" class=\"dataframe\">\n",
       "  <thead>\n",
       "    <tr style=\"text-align: right;\">\n",
       "      <th></th>\n",
       "      <th>total_credits</th>\n",
       "      <th>payment_delays</th>\n",
       "      <th>proportion</th>\n",
       "    </tr>\n",
       "    <tr>\n",
       "      <th>family_status</th>\n",
       "      <th></th>\n",
       "      <th></th>\n",
       "      <th></th>\n",
       "    </tr>\n",
       "  </thead>\n",
       "  <tbody>\n",
       "    <tr>\n",
       "      <th>вдовец / вдова</th>\n",
       "      <td>951</td>\n",
       "      <td>63</td>\n",
       "      <td>6.6%</td>\n",
       "    </tr>\n",
       "    <tr>\n",
       "      <th>в разводе</th>\n",
       "      <td>1189</td>\n",
       "      <td>84</td>\n",
       "      <td>7.1%</td>\n",
       "    </tr>\n",
       "    <tr>\n",
       "      <th>женат / замужем</th>\n",
       "      <td>12261</td>\n",
       "      <td>927</td>\n",
       "      <td>7.6%</td>\n",
       "    </tr>\n",
       "    <tr>\n",
       "      <th>гражданский брак</th>\n",
       "      <td>4134</td>\n",
       "      <td>385</td>\n",
       "      <td>9.3%</td>\n",
       "    </tr>\n",
       "    <tr>\n",
       "      <th>Не женат / не замужем</th>\n",
       "      <td>2796</td>\n",
       "      <td>273</td>\n",
       "      <td>9.8%</td>\n",
       "    </tr>\n",
       "  </tbody>\n",
       "</table>\n",
       "</div>"
      ],
      "text/plain": [
       "                       total_credits  payment_delays proportion\n",
       "family_status                                                  \n",
       "вдовец / вдова                   951              63       6.6%\n",
       "в разводе                       1189              84       7.1%\n",
       "женат / замужем                12261             927       7.6%\n",
       "гражданский брак                4134             385       9.3%\n",
       "Не женат / не замужем           2796             273       9.8%"
      ]
     },
     "metadata": {},
     "output_type": "display_data"
    }
   ],
   "source": [
    "# Ваш код будет здесь. Вы можете создавать новые ячейки.\n",
    "tab_family = data.pivot_table(index = [ 'family_status'], values = 'debt', aggfunc = {'count','sum'})\n",
    "tab_family = tab_family.rename(columns={'count':'total_credits','sum':'payment_delays'})\n",
    "tab_family['proportion'] = round(tab_family['payment_delays']/tab_family['total_credits'], 3)\n",
    "tab_family['proportion'] = tab_family['proportion'].transform(lambda x: '{:,.1%}'.format(x))\n",
    "tab_family = tab_family.sort_values(by='proportion', ascending=True)\n",
    "display(tab_family)"
   ]
  },
  {
   "cell_type": "markdown",
   "id": "c389ca63",
   "metadata": {
    "deletable": false,
    "id": "c389ca63"
   },
   "source": [
    "**Вывод:** \n",
    "Здесь видим, что _меньше всего_ люди в разводе (чуть более 7%) и вдовцы (6,6%) допускают просрочки возврата кредита. Это можно объяснить сниженными расходами и более высоким уровнем доходов, опытом и возрастом, повышенной ответственностью из-за необходимости рассчитывать только на себя. При этом их количество достаточное для релевантной выборки.<br>\n",
    "Люди, состоящие в официальном браке, на которых приходится _больше всего кредитов_, допускают просрочки почти в 8% случаев. Это можно объяснить повышенными расходами из-за наличия детей и финансовыми трудностями из-за того, что в семье работает только один человек.<br>\n",
    "_Больше всего_ доли просрочек у заёмщиков в гражданском браке (более 9%) и неженатых (почти 10%), что можно объяснить молодым возрастом, низким уровнем доходов, слабой ответственностью из-за недостаточного опыта, наличием детей и пр.\n",
    "В общем, можно сказать, что зависимость прослеживается ясно."
   ]
  },
  {
   "cell_type": "markdown",
   "id": "9529de68",
   "metadata": {
    "deletable": false,
    "editable": false,
    "id": "9529de68"
   },
   "source": [
    "#### 3.3 Есть ли зависимость между уровнем дохода и возвратом кредита в срок?"
   ]
  },
  {
   "cell_type": "code",
   "execution_count": 24,
   "id": "8787f44a",
   "metadata": {
    "deletable": false,
    "id": "8787f44a"
   },
   "outputs": [
    {
     "data": {
      "text/html": [
       "<div>\n",
       "<style scoped>\n",
       "    .dataframe tbody tr th:only-of-type {\n",
       "        vertical-align: middle;\n",
       "    }\n",
       "\n",
       "    .dataframe tbody tr th {\n",
       "        vertical-align: top;\n",
       "    }\n",
       "\n",
       "    .dataframe thead th {\n",
       "        text-align: right;\n",
       "    }\n",
       "</style>\n",
       "<table border=\"1\" class=\"dataframe\">\n",
       "  <thead>\n",
       "    <tr style=\"text-align: right;\">\n",
       "      <th></th>\n",
       "      <th>total_credits</th>\n",
       "      <th>payment_delays</th>\n",
       "      <th>proportion</th>\n",
       "    </tr>\n",
       "    <tr>\n",
       "      <th>total_income_category</th>\n",
       "      <th></th>\n",
       "      <th></th>\n",
       "      <th></th>\n",
       "    </tr>\n",
       "  </thead>\n",
       "  <tbody>\n",
       "    <tr>\n",
       "      <th>D</th>\n",
       "      <td>349</td>\n",
       "      <td>21</td>\n",
       "      <td>6.0%</td>\n",
       "    </tr>\n",
       "    <tr>\n",
       "      <th>B</th>\n",
       "      <td>5014</td>\n",
       "      <td>354</td>\n",
       "      <td>7.1%</td>\n",
       "    </tr>\n",
       "    <tr>\n",
       "      <th>A</th>\n",
       "      <td>25</td>\n",
       "      <td>2</td>\n",
       "      <td>8.0%</td>\n",
       "    </tr>\n",
       "    <tr>\n",
       "      <th>C</th>\n",
       "      <td>15921</td>\n",
       "      <td>1353</td>\n",
       "      <td>8.5%</td>\n",
       "    </tr>\n",
       "    <tr>\n",
       "      <th>E</th>\n",
       "      <td>22</td>\n",
       "      <td>2</td>\n",
       "      <td>9.1%</td>\n",
       "    </tr>\n",
       "  </tbody>\n",
       "</table>\n",
       "</div>"
      ],
      "text/plain": [
       "                       total_credits  payment_delays proportion\n",
       "total_income_category                                          \n",
       "D                                349              21       6.0%\n",
       "B                               5014             354       7.1%\n",
       "A                                 25               2       8.0%\n",
       "C                              15921            1353       8.5%\n",
       "E                                 22               2       9.1%"
      ]
     },
     "metadata": {},
     "output_type": "display_data"
    }
   ],
   "source": [
    "# Ваш код будет здесь. Вы можете создавать новые ячейки.\n",
    "tab_income = data.pivot_table(index = [ 'total_income_category'], values = 'debt', aggfunc = {'count','sum'})\n",
    "tab_income = tab_income.rename(columns={'count':'total_credits','sum':'payment_delays'})\n",
    "tab_income['proportion'] = round(tab_income['payment_delays']/tab_income['total_credits'], 3)\n",
    "tab_income['proportion'] = tab_income['proportion'].transform(lambda x: '{:,.1%}'.format(x))\n",
    "tab_income = tab_income.sort_values(by='proportion', ascending=True)\n",
    "display(tab_income)"
   ]
  },
  {
   "cell_type": "markdown",
   "id": "6dd14b57",
   "metadata": {
    "deletable": false,
    "id": "6dd14b57"
   },
   "source": [
    "**Вывод:** \n",
    "напомним, что категории по доходу у нас следующие:<br>\n",
    "A — 1 млн руб. и выше;<br>\n",
    "B — 200 тыс. до 1 млн руб.;<br>\n",
    "C — 50–200 тыс. руб.;<br>\n",
    "D — 30–50 тыс. руб;<br>\n",
    "E — 0–30 тыс. руб.<br>\n",
    "Доля невозвратов _меньше всего_ (6%) у заёмщиков из категории D, то есть с доходом от 30 до 50 тысяч рублей. Скорее всего, они стараются избегать штрафов за просрочку, потому что доходы не позволяют их оплачивать. Одновременно на них приходится _менее 8% от всех выданных кредитов_.<br>\n",
    "Также _меньше всего_ (0,1%) полученных кредитов у людей с доходами до 30 тыс. рублей (категория Е), потому что банки _крайне неохотно_ выдают им займы. При этом у них _самая дольшая_ доля просрочек — более 9%, что можно также объяснить низким уровнем доходов или их непостоянством.<br>\n",
    "В тоже время заёмщиков из категории А с доходами свыше 1 млн рублей также менее 0,1% от их общего числа, что говорит о _редкой необходимости в кредитовании_ из-за высокого уровня доходов. Однако в этой категории доля просрочек составляет 8%, что можно объяснить их _слабой ответственностью_, потому что доходы очень высокие.<br>\n",
    "_Больше всего_ (почти 74%) получили кредитов заёмщики из категории С (доходы от 50 до 200 тыс. рублей), но у них же _довольно большая доля просрочек_ — 8,5%. С большой долей вероятности у них есть семьи, а может и не один кредит. Но здесь нужно провести более тонкую категоризацию и _разделить данную группу на несколько_, потому что доходы 50-80 тыс. рублей можно считать _слабыми_, а 150-200 тыс. рублей — _хорошими_. Такой шаг может дать более интересные результаты.<br>\n",
    "Заёмщики с доходом от 200 тыс. до 1 млн рублей (категория В) на _втором месте_ по объёму кредитов (более 23%) и низкой доле просрочек (чуть выше 7%). Скорее всего, это предприниматели, о чём говорят высокие доходы и повышенная ответственность.<br>\n",
    "При этом, сравнивая две самые многочисленные выборки B и C — если говорить кратко, то чем выше доходы, тем меньше просрочек.<br>\n",
    "Здесь видно, что категория С самая большая, как по количеству кредитов, так и по диапазону доходов. То есть категория может включать в себя разные группы заёмщиков: с небольшим доходом в 50-70 тыс. рублей или 80-100 тыс. рублей, что считается уровнем дохода ниже среднего. В эту же категорию входят заёмщики с достаточно высоким уровнем 150-200 тыс. рублей. Поэтому желательно ещё категоризировать эту группу, чтобы увидеть больше информации.<br>\n",
    "Однако, именно из-за такого большого разброса в уровнях дохода у этой категории больше доля просрочек, что опять же можно объяснить недостаточностью финансов, у заёмщиков ближе к нижней границе диапазона.<br>\n",
    "Та же ситуация наблюдается в категории В, потому что разброс цифр ещё больше. Тем более, что деятельность предпринимателей всегда связана с определённым риском, что напрямую влияет на появление просрочек по кредитам.<br>\n",
    "Итак, мы видим, что наша гепотеза о зависимости возврата кредита в срок от уровня дохода имеет подтверждение."
   ]
  },
  {
   "cell_type": "markdown",
   "id": "1dcc9b12",
   "metadata": {
    "deletable": false,
    "editable": false,
    "id": "1dcc9b12"
   },
   "source": [
    "#### 3.4 Как разные цели кредита влияют на его возврат в срок?"
   ]
  },
  {
   "cell_type": "code",
   "execution_count": 25,
   "id": "c602bc8b",
   "metadata": {
    "deletable": false,
    "id": "c602bc8b"
   },
   "outputs": [
    {
     "data": {
      "text/html": [
       "<div>\n",
       "<style scoped>\n",
       "    .dataframe tbody tr th:only-of-type {\n",
       "        vertical-align: middle;\n",
       "    }\n",
       "\n",
       "    .dataframe tbody tr th {\n",
       "        vertical-align: top;\n",
       "    }\n",
       "\n",
       "    .dataframe thead th {\n",
       "        text-align: right;\n",
       "    }\n",
       "</style>\n",
       "<table border=\"1\" class=\"dataframe\">\n",
       "  <thead>\n",
       "    <tr style=\"text-align: right;\">\n",
       "      <th></th>\n",
       "      <th>total_credits</th>\n",
       "      <th>payment_delays</th>\n",
       "      <th>proportion</th>\n",
       "    </tr>\n",
       "    <tr>\n",
       "      <th>purpose_category</th>\n",
       "      <th></th>\n",
       "      <th></th>\n",
       "      <th></th>\n",
       "    </tr>\n",
       "  </thead>\n",
       "  <tbody>\n",
       "    <tr>\n",
       "      <th>операции с недвижимостью</th>\n",
       "      <td>10751</td>\n",
       "      <td>780</td>\n",
       "      <td>7.3%</td>\n",
       "    </tr>\n",
       "    <tr>\n",
       "      <th>проведение свадьбы</th>\n",
       "      <td>2313</td>\n",
       "      <td>183</td>\n",
       "      <td>7.9%</td>\n",
       "    </tr>\n",
       "    <tr>\n",
       "      <th>операции с автомобилем</th>\n",
       "      <td>4279</td>\n",
       "      <td>400</td>\n",
       "      <td>9.3%</td>\n",
       "    </tr>\n",
       "    <tr>\n",
       "      <th>получение образования</th>\n",
       "      <td>3988</td>\n",
       "      <td>369</td>\n",
       "      <td>9.3%</td>\n",
       "    </tr>\n",
       "  </tbody>\n",
       "</table>\n",
       "</div>"
      ],
      "text/plain": [
       "                          total_credits  payment_delays proportion\n",
       "purpose_category                                                  \n",
       "операции с недвижимостью          10751             780       7.3%\n",
       "проведение свадьбы                 2313             183       7.9%\n",
       "операции с автомобилем             4279             400       9.3%\n",
       "получение образования              3988             369       9.3%"
      ]
     },
     "metadata": {},
     "output_type": "display_data"
    }
   ],
   "source": [
    "# Ваш код будет здесь. Вы можете создавать новые ячейки.\n",
    "tab_goals = data.pivot_table(index = [ 'purpose_category'], values = 'debt', aggfunc = {'count','sum'})\n",
    "tab_goals = tab_goals.rename(columns={'count':'total_credits','sum':'payment_delays'})\n",
    "tab_goals['proportion'] = round(tab_goals['payment_delays']/tab_goals['total_credits'], 3)\n",
    "tab_goals['proportion'] = tab_goals['proportion'].transform(lambda x: '{:,.1%}'.format(x))\n",
    "tab_goals = tab_goals.sort_values(by='proportion', ascending=True)\n",
    "display(tab_goals)"
   ]
  },
  {
   "cell_type": "markdown",
   "id": "cf05ed63",
   "metadata": {
    "deletable": false,
    "id": "cf05ed63"
   },
   "source": [
    "**Вывод:** \n",
    "мы видим прямую взаимосвязь. _Самая низкая_ доля просрочек (7,3%) у заёмщиков, которые стремятся улучшить свои жилищные условия. На них же приходится и _самая большая_ доля выданных кредитов — почти 50%. Это можно объяснить их высокой ответственностью, потому что жильё является _сильным фактором_ для планирования расходов и повышения доходов.<br>\n",
    "На втором месте _по надёжности_ (менее 8% просрочек) заёмщики, которые планируют свадьбу, хотя на них приходится _менее 11% выданных займов_. Этот результат также можно объяснить чувством ответственности, которое растёт после принятия решения о _создании семьи_. Ещё сюда можно отнести _финансовую помощь_, которую часто оказывают родственники молодым семьям.<br>\n",
    "_Самые высокие_ доли просрочек — по 9,3% — среди заёмщиков, которые _планировали операции с автомобилями_ (покупка, ремонт и т.п.) и _получение образования_ (оплата учёбы). В тоже время, на них приходится _почти 20%_ и _18,5%_ соответственно от общего объёма выданных кредитов. В этих случаях, вероятно, играет роль _сумма кредита_, потому что при покупке новой машины людям свойственно _завышать запросы_ и _переоценивать свои силы_ (хорошо бы разделить покупку и ремонт, чтобы более чётко увидеть уровень надёжности заёмщиков).<br>\n",
    "В случае с учёбой _высокую долю_ невозвратов можно объяснить _возрастом_ и _низкой ответственностью_, потому что за образованием, в основном, идут молодые люди, у которых ещё мало опыта."
   ]
  },
  {
   "cell_type": "markdown",
   "id": "46c1f10b",
   "metadata": {
    "deletable": false,
    "editable": false,
    "id": "46c1f10b"
   },
   "source": [
    "#### 3.5 Приведите возможные причины появления пропусков в исходных данных."
   ]
  },
  {
   "cell_type": "markdown",
   "id": "3697d2a9",
   "metadata": {
    "deletable": false,
    "id": "3697d2a9"
   },
   "source": [
    "*Ответ:*<br>\n",
    "пропуски данных наблюдаются в столбцах days_employed (_общий трудовой стаж в днях_) и total_income (_ежемесячный доход_). Это можно объяснить человеческим фактором: возможно, люди не захотели вносить эти данные или посчитали их слишком маленькими.<br>\n",
    "Кроме того, в пропусках нужно отметить их _одинаковое количество в разных столбцах_, что может быть во время копирования, считывания или записи данных, изменения формата файла.<br>\n",
    "Из этого напрашивается вывод, что факт _невнесения данных_ в один из столбцов _влияет_ на пропуски в другом.<br>"
   ]
  },
  {
   "cell_type": "markdown",
   "id": "3137d257",
   "metadata": {
    "deletable": false,
    "editable": false,
    "id": "3137d257"
   },
   "source": [
    "#### 3.6 Объясните, почему заполнить пропуски медианным значением — лучшее решение для количественных переменных."
   ]
  },
  {
   "cell_type": "markdown",
   "id": "cf40012a",
   "metadata": {
    "deletable": false,
    "id": "cf40012a"
   },
   "source": [
    "*Ответ:*<br>\n",
    "столбцы с пропусками _days_employed_ и _total_income_ содержат количественные данные об общем времени трудового стажа и ежемесячном доходе, в которых _могут быть_ аномально высокие или низкие числа. Значит _среднее арифметическое_ здесь не подойдёт, потому что _исказит результат_. Лучше всего покажут выборку в целом с незаполненными данными медианные значения.<br>\n",
    "Кроме того, в пропусках нужно отметить их _одинаковое количество в разных столбцах_. Из этого напрашивается вывод, что факт _невнесения данных_ в один из столбцов _влияет_ на пропуски в другом. Это _можно_ списать на технические ошибки, но _изначальной причиной_ всё равно остаётся человек.<br>"
   ]
  },
  {
   "cell_type": "markdown",
   "id": "57bc304e",
   "metadata": {
    "deletable": false,
    "editable": false,
    "id": "57bc304e"
   },
   "source": [
    "### Шаг 4: общий вывод."
   ]
  },
  {
   "cell_type": "markdown",
   "id": "1ab75d1c",
   "metadata": {
    "deletable": false,
    "id": "1ab75d1c"
   },
   "source": [
    "В работу от кредитного отдела банка получены данные статистики о платёжеспособности клиентов. Была поставлена задача разобраться, влияет ли семейное положение и количество детей клиента на погашение кредита в срок и просрочки. Результаты исследования лягут в модель кредитного скоринга для оценки способности потенциального заёмщика вовремя вернуть кредит банку.<br>\n",
    "На стадии предобработки были выявлены пропущенные значения в столбцах \"общий трудовой стаж в днях\" и \"ежемесячный доход\". Скорее всего, пропуски связаны с человеческим фактором. Поэтому заказчику нужно сделать данные поля обязательными для заполнения. Пропущенные значения были заменены на медианные показатели, как самые подходящие для получения релевантного результата. Также были обработаны дубликаты данных.<br>\n",
    "В ходе исследования были получены выборки для изучения зависимости количества просрочек от семейного положения, количества детей, целей получения кредита и уровня доходов. Здесь нужно сказать, что самыми надёжными заёмщиками являются разведённые или овдовевшие лица без детей с невысоким постоянным доходом, потому что их финансовое положение не позволяет оплачивать штрафные санкции. В эту же группу входят люди, скорее всего предприниматели, с доходом выше 200 тыс. рублей в месяц, потому что бизнес требует ответственности и финансовой дисциплины, несмотря на все риски.<br>\n",
    "Больше всего вероятность просрочки по кредиту у заёмщиков c невысоким уровнем доходов, которые неженаты или состоят в гражданском браке, имеют трёх и более детей, а целью кредита указывают учёбу или покупка автомобиля, или покупку недорогих товаров. При этом не обязательна полная комбинация всех этих факторов, даже некоторые из них позволяют говорить о росте вероятности просрочек платежей по кредиту в будущем.<br>\n",
    "В тоже время зависимость данных от выдвинутых гипотез очень слабая, не прослеживается чёткой взаимосвязи. Однако проведённый анализ показывает, что информация при тщательном сборе и глубокой проработке может дать более точные результаты. Для этого нужно наладить получение информации без пропусков и дублей, ограничить определённым списком цели кредита, уровень доходов, наличие детей, чтобы не было аномалий, например минус 1.<br>\n",
    "Для более точного прогнозирования, всё-таки желательно больше данных, например, добавить сведения об имуществе в собственности, обязательных расходах (съёмное жильё, к примеру) и т.п."
   ]
  }
 ],
 "metadata": {
  "ExecuteTimeLog": [
   {
    "duration": 47,
    "start_time": "2023-12-04T09:07:46.907Z"
   },
   {
    "duration": 484,
    "start_time": "2023-12-04T09:08:05.580Z"
   },
   {
    "duration": 21,
    "start_time": "2023-12-04T09:08:06.065Z"
   },
   {
    "duration": 39,
    "start_time": "2023-12-04T09:08:06.087Z"
   },
   {
    "duration": 45,
    "start_time": "2023-12-04T09:08:06.128Z"
   },
   {
    "duration": 61,
    "start_time": "2023-12-04T09:08:06.174Z"
   },
   {
    "duration": 3,
    "start_time": "2023-12-04T09:08:06.236Z"
   },
   {
    "duration": 32,
    "start_time": "2023-12-04T09:08:06.241Z"
   },
   {
    "duration": 29,
    "start_time": "2023-12-04T09:08:06.274Z"
   },
   {
    "duration": 31,
    "start_time": "2023-12-04T09:08:06.305Z"
   },
   {
    "duration": 13,
    "start_time": "2023-12-04T09:08:06.338Z"
   },
   {
    "duration": 56,
    "start_time": "2023-12-04T09:08:06.353Z"
   },
   {
    "duration": 10,
    "start_time": "2023-12-04T09:08:06.411Z"
   },
   {
    "duration": 29,
    "start_time": "2023-12-04T09:08:06.422Z"
   },
   {
    "duration": 38,
    "start_time": "2023-12-04T09:08:06.453Z"
   },
   {
    "duration": 28,
    "start_time": "2023-12-04T09:08:06.493Z"
   },
   {
    "duration": 19,
    "start_time": "2023-12-04T09:08:06.522Z"
   },
   {
    "duration": 35,
    "start_time": "2023-12-04T09:08:06.542Z"
   },
   {
    "duration": 44,
    "start_time": "2023-12-04T09:08:06.578Z"
   },
   {
    "duration": 21,
    "start_time": "2023-12-04T09:08:06.624Z"
   },
   {
    "duration": 35,
    "start_time": "2023-12-04T09:08:06.647Z"
   },
   {
    "duration": 45,
    "start_time": "2023-12-04T09:08:06.684Z"
   },
   {
    "duration": 49,
    "start_time": "2023-12-04T09:08:06.730Z"
   },
   {
    "duration": 2,
    "start_time": "2023-12-04T09:08:06.781Z"
   },
   {
    "duration": 25,
    "start_time": "2023-12-04T09:08:06.785Z"
   },
   {
    "duration": 13,
    "start_time": "2023-12-04T09:08:06.812Z"
   },
   {
    "duration": 18,
    "start_time": "2023-12-04T09:11:50.733Z"
   },
   {
    "duration": 23,
    "start_time": "2023-12-04T10:09:48.426Z"
   },
   {
    "duration": 22,
    "start_time": "2023-12-04T10:12:59.598Z"
   },
   {
    "duration": 52,
    "start_time": "2023-12-04T10:49:46.667Z"
   },
   {
    "duration": 20,
    "start_time": "2023-12-04T10:50:45.144Z"
   },
   {
    "duration": 26,
    "start_time": "2023-12-04T12:04:03.670Z"
   },
   {
    "duration": 548,
    "start_time": "2023-12-04T16:33:04.028Z"
   },
   {
    "duration": 22,
    "start_time": "2023-12-04T16:33:04.578Z"
   },
   {
    "duration": 21,
    "start_time": "2023-12-04T16:33:04.602Z"
   },
   {
    "duration": 9,
    "start_time": "2023-12-04T16:33:04.625Z"
   },
   {
    "duration": 50,
    "start_time": "2023-12-04T16:33:04.636Z"
   },
   {
    "duration": 3,
    "start_time": "2023-12-04T16:33:04.688Z"
   },
   {
    "duration": 19,
    "start_time": "2023-12-04T16:33:04.692Z"
   },
   {
    "duration": 4,
    "start_time": "2023-12-04T16:33:04.712Z"
   },
   {
    "duration": 9,
    "start_time": "2023-12-04T16:33:04.718Z"
   },
   {
    "duration": 4,
    "start_time": "2023-12-04T16:33:04.729Z"
   },
   {
    "duration": 34,
    "start_time": "2023-12-04T16:33:04.734Z"
   },
   {
    "duration": 10,
    "start_time": "2023-12-04T16:33:04.769Z"
   },
   {
    "duration": 14,
    "start_time": "2023-12-04T16:33:04.780Z"
   },
   {
    "duration": 27,
    "start_time": "2023-12-04T16:33:04.795Z"
   },
   {
    "duration": 22,
    "start_time": "2023-12-04T16:33:04.823Z"
   },
   {
    "duration": 17,
    "start_time": "2023-12-04T16:33:04.846Z"
   },
   {
    "duration": 5,
    "start_time": "2023-12-04T16:33:04.865Z"
   },
   {
    "duration": 12,
    "start_time": "2023-12-04T16:33:04.871Z"
   },
   {
    "duration": 31,
    "start_time": "2023-12-04T16:33:04.885Z"
   },
   {
    "duration": 3,
    "start_time": "2023-12-04T16:33:04.918Z"
   },
   {
    "duration": 9,
    "start_time": "2023-12-04T16:33:04.923Z"
   },
   {
    "duration": 24,
    "start_time": "2023-12-04T16:33:04.933Z"
   },
   {
    "duration": 20,
    "start_time": "2023-12-04T16:33:04.960Z"
   },
   {
    "duration": 51,
    "start_time": "2023-12-04T16:33:04.982Z"
   },
   {
    "duration": 23,
    "start_time": "2023-12-04T16:33:05.035Z"
   },
   {
    "duration": 49,
    "start_time": "2023-12-04T21:45:52.896Z"
   },
   {
    "duration": 666,
    "start_time": "2023-12-04T21:46:31.917Z"
   },
   {
    "duration": 22,
    "start_time": "2023-12-04T21:46:32.585Z"
   },
   {
    "duration": 15,
    "start_time": "2023-12-04T21:46:32.609Z"
   },
   {
    "duration": 11,
    "start_time": "2023-12-04T21:46:32.626Z"
   },
   {
    "duration": 33,
    "start_time": "2023-12-04T21:46:32.638Z"
   },
   {
    "duration": 3,
    "start_time": "2023-12-04T21:46:32.673Z"
   },
   {
    "duration": 37,
    "start_time": "2023-12-04T21:46:32.677Z"
   },
   {
    "duration": 4,
    "start_time": "2023-12-04T21:46:32.715Z"
   },
   {
    "duration": 8,
    "start_time": "2023-12-04T21:46:32.720Z"
   },
   {
    "duration": 8,
    "start_time": "2023-12-04T21:46:32.730Z"
   },
   {
    "duration": 32,
    "start_time": "2023-12-04T21:46:32.739Z"
   },
   {
    "duration": 9,
    "start_time": "2023-12-04T21:46:32.773Z"
   },
   {
    "duration": 5,
    "start_time": "2023-12-04T21:46:32.783Z"
   },
   {
    "duration": 32,
    "start_time": "2023-12-04T21:46:32.788Z"
   },
   {
    "duration": 20,
    "start_time": "2023-12-04T21:46:32.821Z"
   },
   {
    "duration": 15,
    "start_time": "2023-12-04T21:46:32.842Z"
   },
   {
    "duration": 3,
    "start_time": "2023-12-04T21:46:32.859Z"
   },
   {
    "duration": 14,
    "start_time": "2023-12-04T21:46:32.863Z"
   },
   {
    "duration": 5,
    "start_time": "2023-12-04T21:46:32.878Z"
   },
   {
    "duration": 27,
    "start_time": "2023-12-04T21:46:32.884Z"
   },
   {
    "duration": 10,
    "start_time": "2023-12-04T21:46:32.913Z"
   },
   {
    "duration": 35,
    "start_time": "2023-12-04T21:46:32.924Z"
   },
   {
    "duration": 19,
    "start_time": "2023-12-04T21:46:32.960Z"
   },
   {
    "duration": 17,
    "start_time": "2023-12-04T21:46:32.980Z"
   },
   {
    "duration": 21,
    "start_time": "2023-12-04T21:46:33.011Z"
   },
   {
    "duration": 68,
    "start_time": "2023-12-04T21:46:33.033Z"
   },
   {
    "duration": 362,
    "start_time": "2023-12-04T21:46:46.617Z"
   },
   {
    "duration": 20,
    "start_time": "2023-12-04T21:50:27.633Z"
   },
   {
    "duration": 20,
    "start_time": "2023-12-04T21:50:47.574Z"
   },
   {
    "duration": 20,
    "start_time": "2023-12-04T21:51:02.173Z"
   },
   {
    "duration": 353,
    "start_time": "2023-12-04T21:51:09.862Z"
   },
   {
    "duration": 20,
    "start_time": "2023-12-04T21:51:25.349Z"
   },
   {
    "duration": 20,
    "start_time": "2023-12-04T21:51:56.812Z"
   },
   {
    "duration": 17,
    "start_time": "2023-12-04T21:52:29.952Z"
   },
   {
    "duration": 77,
    "start_time": "2023-12-04T21:53:47.572Z"
   },
   {
    "duration": 81,
    "start_time": "2023-12-04T21:55:06.140Z"
   },
   {
    "duration": 450,
    "start_time": "2023-12-05T06:57:17.331Z"
   },
   {
    "duration": 21,
    "start_time": "2023-12-05T06:57:17.783Z"
   },
   {
    "duration": 60,
    "start_time": "2023-12-05T06:57:17.806Z"
   },
   {
    "duration": 31,
    "start_time": "2023-12-05T06:57:17.868Z"
   },
   {
    "duration": 40,
    "start_time": "2023-12-05T06:57:17.901Z"
   },
   {
    "duration": 3,
    "start_time": "2023-12-05T06:57:17.943Z"
   },
   {
    "duration": 23,
    "start_time": "2023-12-05T06:57:17.947Z"
   },
   {
    "duration": 10,
    "start_time": "2023-12-05T06:57:17.972Z"
   },
   {
    "duration": 21,
    "start_time": "2023-12-05T06:57:17.984Z"
   },
   {
    "duration": 10,
    "start_time": "2023-12-05T06:57:18.008Z"
   },
   {
    "duration": 35,
    "start_time": "2023-12-05T06:57:18.020Z"
   },
   {
    "duration": 10,
    "start_time": "2023-12-05T06:57:18.057Z"
   },
   {
    "duration": 38,
    "start_time": "2023-12-05T06:57:18.069Z"
   },
   {
    "duration": 17,
    "start_time": "2023-12-05T06:57:18.108Z"
   },
   {
    "duration": 44,
    "start_time": "2023-12-05T06:57:18.127Z"
   },
   {
    "duration": 16,
    "start_time": "2023-12-05T06:57:18.172Z"
   },
   {
    "duration": 3,
    "start_time": "2023-12-05T06:57:18.190Z"
   },
   {
    "duration": 30,
    "start_time": "2023-12-05T06:57:18.194Z"
   },
   {
    "duration": 13,
    "start_time": "2023-12-05T06:57:18.225Z"
   },
   {
    "duration": 20,
    "start_time": "2023-12-05T06:57:18.239Z"
   },
   {
    "duration": 25,
    "start_time": "2023-12-05T06:57:18.261Z"
   },
   {
    "duration": 38,
    "start_time": "2023-12-05T06:57:18.287Z"
   },
   {
    "duration": 23,
    "start_time": "2023-12-05T06:57:18.327Z"
   },
   {
    "duration": 20,
    "start_time": "2023-12-05T06:57:18.351Z"
   },
   {
    "duration": 19,
    "start_time": "2023-12-05T06:57:18.372Z"
   },
   {
    "duration": 241,
    "start_time": "2023-12-05T07:01:53.753Z"
   }
  ],
  "colab": {
   "provenance": []
  },
  "kernelspec": {
   "display_name": "Python 3 (ipykernel)",
   "language": "python",
   "name": "python3"
  },
  "language_info": {
   "codemirror_mode": {
    "name": "ipython",
    "version": 3
   },
   "file_extension": ".py",
   "mimetype": "text/x-python",
   "name": "python",
   "nbconvert_exporter": "python",
   "pygments_lexer": "ipython3",
   "version": "3.9.5"
  },
  "toc": {
   "base_numbering": 1,
   "nav_menu": {},
   "number_sections": true,
   "sideBar": true,
   "skip_h1_title": true,
   "title_cell": "Table of Contents",
   "title_sidebar": "Contents",
   "toc_cell": false,
   "toc_position": {},
   "toc_section_display": true,
   "toc_window_display": true
  }
 },
 "nbformat": 4,
 "nbformat_minor": 5
}
